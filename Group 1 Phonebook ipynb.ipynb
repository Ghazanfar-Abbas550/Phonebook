{
 "cells": [
  {
   "cell_type": "code",
   "execution_count": 15,
   "id": "5d7063de-5b40-41d5-9869-64a82b6fd7e6",
   "metadata": {},
   "outputs": [
    {
     "name": "stdout",
     "output_type": "stream",
     "text": [
      "\n",
      "Phone Book Menu:\n",
      "1. Enter new entry\n",
      "2. Delete an existing one\n",
      "3. Change phone number\n",
      "4. Display the phone book\n",
      "5. Exit\n"
     ]
    },
    {
     "name": "stdin",
     "output_type": "stream",
     "text": [
      "Choose an option (1-5):  1\n",
      "Enter the name:  Ghazanfar Abbas\n",
      "Enter the phone number:  + 92 98088678990\n"
     ]
    },
    {
     "name": "stdout",
     "output_type": "stream",
     "text": [
      "Added Ghazanfar Abbas to the phone book.\n",
      "\n",
      "Phone Book Menu:\n",
      "1. Enter new entry\n",
      "2. Delete an existing one\n",
      "3. Change phone number\n",
      "4. Display the phone book\n",
      "5. Exit\n"
     ]
    },
    {
     "name": "stdin",
     "output_type": "stream",
     "text": [
      "Choose an option (1-5):  1\n",
      "Enter the name:  Group 1\n",
      "Enter the phone number:  +92 89738454672874\n"
     ]
    },
    {
     "name": "stdout",
     "output_type": "stream",
     "text": [
      "Added Group 1 to the phone book.\n",
      "\n",
      "Phone Book Menu:\n",
      "1. Enter new entry\n",
      "2. Delete an existing one\n",
      "3. Change phone number\n",
      "4. Display the phone book\n",
      "5. Exit\n"
     ]
    },
    {
     "name": "stdin",
     "output_type": "stream",
     "text": [
      "Choose an option (1-5):  3\n",
      "Enter the name to change the number for:  Group 1\n",
      "Enter the new phone number for Group 1:  +92 786756454363745656353\n"
     ]
    },
    {
     "name": "stdout",
     "output_type": "stream",
     "text": [
      "Updated Group 1's phone number.\n",
      "\n",
      "Phone Book Menu:\n",
      "1. Enter new entry\n",
      "2. Delete an existing one\n",
      "3. Change phone number\n",
      "4. Display the phone book\n",
      "5. Exit\n"
     ]
    },
    {
     "name": "stdin",
     "output_type": "stream",
     "text": [
      "Choose an option (1-5):  4\n"
     ]
    },
    {
     "name": "stdout",
     "output_type": "stream",
     "text": [
      "\n",
      "Phone Book Entries:\n",
      "Ghazanfar Abbas: + 92 98088678990\n",
      "Group 1: +92 786756454363745656353\n",
      "\n",
      "Phone Book Menu:\n",
      "1. Enter new entry\n",
      "2. Delete an existing one\n",
      "3. Change phone number\n",
      "4. Display the phone book\n",
      "5. Exit\n"
     ]
    },
    {
     "name": "stdin",
     "output_type": "stream",
     "text": [
      "Choose an option (1-5):  2\n",
      "Enter the name to delete:  Ghazanfar Abbas\n"
     ]
    },
    {
     "name": "stdout",
     "output_type": "stream",
     "text": [
      "Deleted Ghazanfar Abbas from the phone book.\n",
      "\n",
      "Phone Book Menu:\n",
      "1. Enter new entry\n",
      "2. Delete an existing one\n",
      "3. Change phone number\n",
      "4. Display the phone book\n",
      "5. Exit\n"
     ]
    },
    {
     "name": "stdin",
     "output_type": "stream",
     "text": [
      "Choose an option (1-5):  5\n"
     ]
    },
    {
     "name": "stdout",
     "output_type": "stream",
     "text": [
      "Exiting the program. Phone book saved.\n"
     ]
    }
   ],
   "source": [
    "import os\n",
    "\n",
    "PHONEBOOK_FILE = \"phonebook.txt\"\n",
    "\n",
    "def load_phonebook():\n",
    "    phonebook = {}\n",
    "    if os.path.exists(PHONEBOOK_FILE):\n",
    "        with open(PHONEBOOK_FILE, 'r') as file:\n",
    "            for line in file:\n",
    "                name, number = line.strip().split(',')\n",
    "                phonebook[name] = number\n",
    "    return phonebook\n",
    "def save_phonebook(phonebook):\n",
    "    with open(PHONEBOOK_FILE, 'w') as file:\n",
    "        for name, number in phonebook.items():\n",
    "            file.write(f\"{name},{number}\\n\")\n",
    "def add_entry(phonebook):\n",
    "    name = input(\"Enter the name: \").strip()\n",
    "    if name in phonebook:\n",
    "        print(f\"{name} is already in the phone book.\")\n",
    "    else:\n",
    "        number = input(\"Enter the phone number: \").strip()\n",
    "        phonebook[name] = number\n",
    "        print(f\"Added {name} to the phone book.\")\n",
    "def delete_entry(phonebook):\n",
    "    name = input(\"Enter the name to delete: \").strip()\n",
    "    if name in phonebook:\n",
    "        del phonebook[name]\n",
    "        print(f\"Deleted {name} from the phone book.\")\n",
    "    else:\n",
    "        print(f\"{name} was not found in the phone book.\")\n",
    "def change_number(phonebook):\n",
    "    name = input(\"Enter the name to change the number for: \").strip()\n",
    "    if name in phonebook:\n",
    "        new_number = input(f\"Enter the new phone number for {name}: \").strip()\n",
    "        phonebook[name] = new_number\n",
    "        print(f\"Updated {name}'s phone number.\")\n",
    "    else:\n",
    "        print(f\"{name} was not found in the phone book.\")\n",
    "def display_phonebook(phonebook):\n",
    "    if phonebook:\n",
    "        print(\"\\nPhone Book Entries:\")\n",
    "        for name, number in phonebook.items():\n",
    "            print(f\"{name}: {number}\")\n",
    "    else:\n",
    "        print(\"\\nPhone book is empty.\")\n",
    "def main_menu():\n",
    "    phonebook = load_phonebook()\n",
    "\n",
    "    while True:\n",
    "        print(\"\\nPhone Book Menu:\")\n",
    "        print(\"1. Enter new entry\")\n",
    "        print(\"2. Delete an existing one\")\n",
    "        print(\"3. Change phone number\")\n",
    "        print(\"4. Display the phone book\")\n",
    "        print(\"5. Exit\")\n",
    "\n",
    "        choice = input(\"Choose an option (1-5): \").strip()\n",
    "\n",
    "        if choice == '1':\n",
    "            add_entry(phonebook)\n",
    "        elif choice == '2':\n",
    "            delete_entry(phonebook)\n",
    "        elif choice == '3':\n",
    "            change_number(phonebook)\n",
    "        elif choice == '4':\n",
    "            display_phonebook(phonebook)\n",
    "        elif choice == '5':\n",
    "            save_phonebook(phonebook)\n",
    "            print(\"Exiting the program. Phone book saved.\")\n",
    "            break\n",
    "        else:\n",
    "            print(\"Invalid option. Please choose a valid number from the menu.\")\n",
    "if __name__ == \"__main__\":\n",
    "    main_menu()"
   ]
  }
 ],
 "metadata": {
  "kernelspec": {
   "display_name": "Python 3 (ipykernel)",
   "language": "python",
   "name": "python3"
  },
  "language_info": {
   "codemirror_mode": {
    "name": "ipython",
    "version": 3
   },
   "file_extension": ".py",
   "mimetype": "text/x-python",
   "name": "python",
   "nbconvert_exporter": "python",
   "pygments_lexer": "ipython3",
   "version": "3.12.4"
  }
 },
 "nbformat": 4,
 "nbformat_minor": 5
}
